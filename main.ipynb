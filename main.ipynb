{
 "cells": [
  {
   "cell_type": "markdown",
   "metadata": {},
   "source": [
    "# Extracting Raw Data from Unstructured Documents"
   ]
  },
  {
   "cell_type": "code",
   "execution_count": null,
   "metadata": {},
   "outputs": [],
   "source": [
    "%pip install -r requirements.txt\n",
    "# Depending upon your environment, you may need to use the above line or the one below\n",
    "# !pip install -r requirements.txt"
   ]
  },
  {
   "cell_type": "code",
   "execution_count": 2,
   "metadata": {},
   "outputs": [],
   "source": [
    "from openai import OpenAI\n",
    "import base64\n",
    "import csv\n",
    "from openai_key import OPENAI_KEY\n",
    "import os\n",
    "import pandas as pd"
   ]
  },
  {
   "cell_type": "code",
   "execution_count": null,
   "metadata": {},
   "outputs": [],
   "source": [
    "DEFAULT_PROMPT = \"\"\"Please retrieve title, invoive number, issue_date, total amount and table.\n",
    "    Note that even the date should be in the format DD/MM/YYYY with numeric values.   \n",
    "    Always return your response as a valid JSON string. The format of that string should be this, \n",
    "    {\n",
    "        invoice_number: RSN/18-19/4126,\n",
    "        invoice_date: 09/03/2019,\n",
    "        total: 76900,\n",
    "        table: S Description of Goods HSN/SAC GST Quantity Rate per Disc. % Amount\n",
    "                Rate\n",
    "                SAMSUNG S10PLUS 85171290 12 % 1 No. 68,660.71 No. 68,660.71\n",
    "                512GB G975 CERAMIC BLACK\n",
    "                Batch : 1 No.\n",
    "    }\n",
    "    If you can't find the information from this article \n",
    "    then return \"\". Do not make things up. Even if the message isn't visible, no need to write apologising messages,\n",
    "    just return the JSON string.\n",
    "\"\"\""
   ]
  },
  {
   "cell_type": "code",
   "execution_count": null,
   "metadata": {},
   "outputs": [],
   "source": [
    "client = OpenAI(api_key=OPENAI_KEY)"
   ]
  },
  {
   "cell_type": "code",
   "execution_count": null,
   "metadata": {},
   "outputs": [],
   "source": [
    "def encode_image(image_path):\n",
    "    with open(image_path, \"rb\") as image_file:\n",
    "        return base64.b64encode(image_file.read()).decode('utf-8')"
   ]
  },
  {
   "cell_type": "code",
   "execution_count": null,
   "metadata": {},
   "outputs": [],
   "source": [
    "# This could also be done with os module but for the sake of maintaining order with the csv, it is done this way;\n",
    "csv_file_path = 'test/gt.csv'\n",
    "titles = []\n",
    "\n",
    "with open(csv_file_path, 'r') as csvfile:\n",
    "    csv_reader = csv.DictReader(csvfile)\n",
    "    for row in csv_reader:\n",
    "        title = row['title']\n",
    "        titles.append(title)"
   ]
  },
  {
   "cell_type": "code",
   "execution_count": null,
   "metadata": {},
   "outputs": [],
   "source": [
    "with open(\"jsons.json\", \"a\") as file:\n",
    "\n",
    "    file.write(\"[\\n\")\n",
    "\n",
    "    for title in titles:\n",
    "        image_local = os.path.join('./test/files', title)\n",
    "        image_url = f\"data:image/jpeg;base64,{encode_image(image_local)}\"\n",
    "\n",
    "\n",
    "        response = client.chat.completions.create(\n",
    "            model='gpt-4-vision-preview', \n",
    "            messages=[\n",
    "                {\n",
    "                    \"role\": \"user\",\n",
    "                    \"content\": [\n",
    "                        {\"type\": \"text\", \"text\": DEFAULT_PROMPT},\n",
    "                        {\n",
    "                            \"type\": \"image_url\",\n",
    "                            \"image_url\": {\"url\": image_url}\n",
    "                        }\n",
    "                    ],\n",
    "                }\n",
    "            ],\n",
    "            max_tokens=500,\n",
    "        )\n",
    "\n",
    "        json_string = response.choices[0].message.content\n",
    "        json_string = json_string.replace(\"```json\\n\", \"\").replace(\"\\n```\", \"\").replace(\"```\", \"\")\n",
    "\n",
    "        file.write(json_string+ \",\\n\")\n",
    "\n",
    "    file.write(\"]\\n\")"
   ]
  }
 ],
 "metadata": {
  "kernelspec": {
   "display_name": "venv",
   "language": "python",
   "name": "python3"
  },
  "language_info": {
   "codemirror_mode": {
    "name": "ipython",
    "version": 3
   },
   "file_extension": ".py",
   "mimetype": "text/x-python",
   "name": "python",
   "nbconvert_exporter": "python",
   "pygments_lexer": "ipython3",
   "version": "3.10.12"
  }
 },
 "nbformat": 4,
 "nbformat_minor": 2
}
